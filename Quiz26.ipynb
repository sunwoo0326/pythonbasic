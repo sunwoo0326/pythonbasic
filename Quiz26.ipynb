{
  "nbformat": 4,
  "nbformat_minor": 0,
  "metadata": {
    "colab": {
      "name": "Quiz26.ipynb",
      "provenance": [],
      "authorship_tag": "ABX9TyMq8Oagaw2cD6j9KAhp2tNj",
      "include_colab_link": true
    },
    "kernelspec": {
      "name": "python3",
      "display_name": "Python 3"
    }
  },
  "cells": [
    {
      "cell_type": "markdown",
      "metadata": {
        "id": "view-in-github",
        "colab_type": "text"
      },
      "source": [
        "<a href=\"https://colab.research.google.com/github/sunwoo0326/pythonbasic/blob/main/Quiz26.ipynb\" target=\"_parent\"><img src=\"https://colab.research.google.com/assets/colab-badge.svg\" alt=\"Open In Colab\"/></a>"
      ]
    },
    {
      "cell_type": "code",
      "metadata": {
        "colab": {
          "base_uri": "https://localhost:8080/"
        },
        "id": "C9e7A2AYJJ2f",
        "outputId": "21887bbf-2b9d-41d1-e991-227c335d4e29"
      },
      "source": [
        "#q1  리스트의 삭제\r\n",
        "nums = [100,200,300,400,500]\r\n",
        "del nums[3:5]\r\n",
        "print(nums)"
      ],
      "execution_count": 11,
      "outputs": [
        {
          "output_type": "stream",
          "text": [
            "[100, 200, 300]\n"
          ],
          "name": "stdout"
        }
      ]
    },
    {
      "cell_type": "code",
      "metadata": {
        "colab": {
          "base_uri": "https://localhost:8080/"
        },
        "id": "2wTBi0shMWDe",
        "outputId": "c44ea777-2286-4319-f225-b39b8122c268"
      },
      "source": [
        "#2\r\n",
        "nums = [100,200,300,400,500]\r\n",
        "nums.pop()              # 끝 요솟값 제거\r\n",
        "nums.pop()\r\n",
        "print(nums)"
      ],
      "execution_count": 13,
      "outputs": [
        {
          "output_type": "stream",
          "text": [
            "[100, 200, 300]\n"
          ],
          "name": "stdout"
        }
      ]
    },
    {
      "cell_type": "code",
      "metadata": {
        "colab": {
          "base_uri": "https://localhost:8080/"
        },
        "id": "87ruU6AmMZv-",
        "outputId": "ff16897e-a89d-4688-a910-e3e23720c7ab"
      },
      "source": [
        "#3\r\n",
        "nums = [100,200,300,400,500]\r\n",
        "nums = nums[:3]          #슬라이싱 활용\r\n",
        "print(nums)"
      ],
      "execution_count": 14,
      "outputs": [
        {
          "output_type": "stream",
          "text": [
            "[100, 200, 300]\n"
          ],
          "name": "stdout"
        }
      ]
    },
    {
      "cell_type": "code",
      "metadata": {
        "colab": {
          "base_uri": "https://localhost:8080/"
        },
        "id": "mlnfiYC4Mn16",
        "outputId": "7d745065-4764-4b65-d410-2caf3f4db204"
      },
      "source": [
        "#q2 리스트 내장함수 insert 이용 결과값 [200,100,10000,300]\r\n",
        "i = [200,100,300]\r\n",
        "i.insert(2,10000)\r\n",
        "print(i)"
      ],
      "execution_count": 21,
      "outputs": [
        {
          "output_type": "stream",
          "text": [
            "[200, 100, 10000, 300]\n"
          ],
          "name": "stdout"
        }
      ]
    },
    {
      "cell_type": "code",
      "metadata": {
        "colab": {
          "base_uri": "https://localhost:8080/"
        },
        "id": "YGqiVaUlPCLA",
        "outputId": "00e5fdbe-d0d5-40c6-aa6b-7280327becd5"
      },
      "source": [
        "#q3 변수 타입\r\n",
        "i = [100,200,300]\r\n",
        "print(type(i))"
      ],
      "execution_count": 23,
      "outputs": [
        {
          "output_type": "stream",
          "text": [
            "<class 'list'>\n"
          ],
          "name": "stdout"
        }
      ]
    },
    {
      "cell_type": "code",
      "metadata": {
        "colab": {
          "base_uri": "https://localhost:8080/"
        },
        "id": "dEeoZ_aBPKZ6",
        "outputId": "01c045aa-381b-4aa5-ac95-b8523b62bfad"
      },
      "source": [
        "#q4 for 문 계산\r\n",
        "a = 10\r\n",
        "b = 2\r\n",
        "for i in range(1, 5, 2):  # 1에서 5미만까지 2씩 증가하는 수를 i 에 하나씩 대입 i = 1 i = 3\r\n",
        "    a += i                # 10 + 1 + 3\r\n",
        "print(a+b)"
      ],
      "execution_count": 27,
      "outputs": [
        {
          "output_type": "stream",
          "text": [
            "16\n"
          ],
          "name": "stdout"
        }
      ]
    },
    {
      "cell_type": "code",
      "metadata": {
        "id": "lxYM4joWPwWt"
      },
      "source": [
        "#q5 변수로 사용하지 못하는것 as ('예약어'이기 때문에), 1age(변수는 숫자로 시작 x)"
      ],
      "execution_count": 29,
      "outputs": []
    },
    {
      "cell_type": "code",
      "metadata": {
        "colab": {
          "base_uri": "https://localhost:8080/"
        },
        "id": "rgjXSsKYSrdK",
        "outputId": "af9835ea-e8ca-4c29-e4d0-7c0eccdb998a"
      },
      "source": [
        "#q6   # 딕셔너리 이름이 중복되면 중복된 값중 뒤에 있는 값이 도출된다.\r\n",
        "d = {'height':180,'weight':78,'weight':84,'temparture':36,'eyesitght':1}   #딕셔너리 키 이름 중복\r\n",
        "print(d['weight'])"
      ],
      "execution_count": 32,
      "outputs": [
        {
          "output_type": "stream",
          "text": [
            "84\n"
          ],
          "name": "stdout"
        }
      ]
    },
    {
      "cell_type": "code",
      "metadata": {
        "colab": {
          "base_uri": "https://localhost:8080/"
        },
        "id": "sDp9Hh5mTEk0",
        "outputId": "7a7edc7a-cd3c-4102-e693-3a238f20926d"
      },
      "source": [
        "#q7    # sep 과 end 를 활용하여 결과값 1줄로 출력\r\n",
        "year = '2019'\r\n",
        "month = '04'\r\n",
        "day = '26'\r\n",
        "hour = '11'\r\n",
        "minute = '34'\r\n",
        "second ='27'\r\n",
        "\r\n",
        "print(year, month, day, sep='/', end=' ')\r\n",
        "print(hour, minute, second, sep=':')"
      ],
      "execution_count": 37,
      "outputs": [
        {
          "output_type": "stream",
          "text": [
            "2019/04/26 11:34:27\n"
          ],
          "name": "stdout"
        }
      ]
    },
    {
      "cell_type": "code",
      "metadata": {
        "colab": {
          "base_uri": "https://localhost:8080/"
        },
        "id": "xECAsLXyZG7_",
        "outputId": "02a37ed6-b2db-4098-c868-d01edfa08509"
      },
      "source": [
        "#q8\r\n",
        "n = int(input('몇단짜리 크리스마스 트리를 만들까요?'))\r\n",
        "for i in range(1,n+1):      # 0부터 n+1 미만   n = 5  라고 가정\r\n",
        "  print(\" \" * (n-i) + \"*\"*(2*i-1))\r\n",
        "\r\n"
      ],
      "execution_count": 40,
      "outputs": [
        {
          "output_type": "stream",
          "text": [
            "몇단짜리 크리스마스 트리를 만들까요?5\n",
            "    *\n",
            "   ***\n",
            "  *****\n",
            " *******\n",
            "*********\n"
          ],
          "name": "stdout"
        }
      ]
    },
    {
      "cell_type": "code",
      "metadata": {
        "colab": {
          "base_uri": "https://localhost:8080/"
        },
        "id": "7SkS8w1H4vuU",
        "outputId": "ee360f2f-0c1d-4bc1-eff9-782ebd71a92d"
      },
      "source": [
        "#q9      클래스 작성\r\n",
        "\r\n",
        "class Wizard:\r\n",
        "  def __init__(self, health, mana, armor):\r\n",
        "    self.health = health\r\n",
        "    self.mana = mana\r\n",
        "    self.armor = armor\r\n",
        "  def attack(self):\r\n",
        "    print('파이어볼')\r\n",
        "    \r\n",
        "x = Wizard(health = 545, mana = 210, armor = 10)\r\n",
        "print(x.health, x.mana, x.armor)\r\n",
        "x.attack()"
      ],
      "execution_count": 46,
      "outputs": [
        {
          "output_type": "stream",
          "text": [
            "545 210 10\n",
            "파이어볼\n"
          ],
          "name": "stdout"
        }
      ]
    },
    {
      "cell_type": "code",
      "metadata": {
        "colab": {
          "base_uri": "https://localhost:8080/"
        },
        "id": "3YvlpGUm7Zmu",
        "outputId": "893bee5c-3b63-4d2b-c823-0be17bf8830b"
      },
      "source": [
        "planets = ['수성','금성','지구','화성','목성','토성','천왕성','해왕성']\r\n",
        "\r\n",
        "n = int(input('몇번째 행성의 이름을 알고 싶으신가요? :' ))\r\n",
        "print(planets[n-1])"
      ],
      "execution_count": 51,
      "outputs": [
        {
          "output_type": "stream",
          "text": [
            "몇번째 행성의 이름을 알고 싶으신가요? :1\n",
            "수성\n"
          ],
          "name": "stdout"
        }
      ]
    },
    {
      "cell_type": "code",
      "metadata": {
        "colab": {
          "base_uri": "https://localhost:8080/"
        },
        "id": "f7ysqQww_C4m",
        "outputId": "9bec30a7-2571-4594-c388-47e4697238a1"
      },
      "source": [
        "r = input('거꾸로:')\r\n",
        "print(''.join(reversed(r)))"
      ],
      "execution_count": 53,
      "outputs": [
        {
          "output_type": "stream",
          "text": [
            "거꾸로:거꾸로\n",
            "로꾸거\n"
          ],
          "name": "stdout"
        }
      ]
    },
    {
      "cell_type": "code",
      "metadata": {
        "id": "B85M2EmbI3t0"
      },
      "source": [
        ""
      ],
      "execution_count": null,
      "outputs": []
    }
  ]
}